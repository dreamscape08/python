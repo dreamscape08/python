{
 "metadata": {
  "language_info": {
   "codemirror_mode": {
    "name": "ipython",
    "version": 3
   },
   "file_extension": ".py",
   "mimetype": "text/x-python",
   "name": "python",
   "nbconvert_exporter": "python",
   "pygments_lexer": "ipython3",
   "version": "3.8.5-final"
  },
  "orig_nbformat": 2,
  "kernelspec": {
   "name": "python3",
   "display_name": "Python 3",
   "language": "python"
  }
 },
 "nbformat": 4,
 "nbformat_minor": 2,
 "cells": [
  {
   "cell_type": "code",
   "execution_count": 4,
   "metadata": {
    "tags": []
   },
   "outputs": [
    {
     "output_type": "stream",
     "name": "stdout",
     "text": [
      "\nFinancial Analysis\n-------------------------------------\nTotal months invested: 86 months\nTotal years invested: 7.17 years\n# of profitable months: 74 months\n# of unprofitable months: 12 months\n-------------------------------------\nTotal sum of loses: $-7327426\nTotal sum of profits: $45710004\nTotal revenue: $53037430\nTotal net profit: $38382578\n-------------------------------------\nNet Monthly Avg: $446309.05\nNet Weekly Avg: $111577.26\nNet Daily Avg: $15939.61\n-------------------------------------\nGreatest Increase in Profits: Feb-2012 $1170593\nGreatest Decrease in Profits: Sep-2013 $-1196225\n\n"
     ]
    }
   ],
   "source": [
    "#PyBank Homework2\n",
    "#Jeffrey Scott\n",
    "#import budget data and run an analysis of profit/loss and months they coincide with\n",
    "#output file is HW2 \n",
    "import csv\n",
    "hw2 = 'PyBankOutput.txt'\n",
    "csvpath = 'budget_data.csv'\n",
    "with open(csvpath, 'r') as revenue_data:\n",
    "    csvreader = csv.reader(revenue_data, delimiter = \",\")\n",
    "    csv_header = next(csvreader)    \n",
    "   \n",
    "    months = []\n",
    "    profit = []\n",
    "    profittotals = 0\n",
    "    losstotals = 0 \n",
    "    loss = []\n",
    "    profits_loses = []\n",
    "    \n",
    "    for row in csv.reader(revenue_data):\n",
    "        months.append(row[0])\n",
    "        profits_loses.append(row[1])\n",
    "    number_of_months=len(months)           \n",
    "    \n",
    "    for values in profits_loses:        \n",
    "        if int(values) > 0:\n",
    "            profit.append(values)\n",
    "            profittotals= profittotals + int(values)\n",
    "        elif int(values) < 0:\n",
    "            loss.append(values)\n",
    "            losstotals=losstotals+int(float(values))\n",
    "\n",
    "    biggest_loss = 0 \n",
    "    biggest_gain = 0\n",
    "    for gain in profits_loses:\n",
    "        if int(gain) > biggest_gain:\n",
    "            biggest_gain = int(gain)\n",
    "        elif int(gain) < biggest_loss:\n",
    "            biggest_loss = int(gain)\n",
    "    index_date_gain= profits_loses.index(str(biggest_gain))\n",
    "    index_date_loss= profits_loses.index(str(biggest_loss))       \n",
    "    revenue=(profittotals + losstotals)\n",
    "    avg = revenue/number_of_months \n",
    "\n",
    "    output=(f'\\nFinancial Analysis\\n'\n",
    "            f'-------------------------------------\\n'    \n",
    "            f'Total months invested: {number_of_months} months\\n'\n",
    "            f'Total years invested: {round(number_of_months/12,2)} years\\n'\n",
    "            f'# of profitable months: {len(profit)} months\\n'\n",
    "            f'# of unprofitable months: {len(loss)} months\\n'\n",
    "            f'-------------------------------------\\n'\n",
    "            f'Total sum of loses: ${losstotals}\\n'\n",
    "            f'Total sum of profits: ${profittotals}\\n'\n",
    "            f'Total revenue: ${(revenue - (losstotals*2))}\\n'\n",
    "            f'Total net profit: ${revenue}\\n'\n",
    "            f'-------------------------------------\\n'\n",
    "            f'Net Monthly Avg: ${round(avg,2)}\\n'\n",
    "            f'Net Weekly Avg: ${round(avg/4,2)}\\n'\n",
    "            f'Net Daily Avg: ${round(avg/28,2)}\\n'\n",
    "            f'-------------------------------------\\n'\n",
    "            f'Greatest Increase in Profits: {months[index_date_gain]} ${biggest_gain}\\n'\n",
    "            f'Greatest Decrease in Profits: {months[index_date_loss]} ${biggest_loss}\\n')\n",
    "    print(output)\n",
    "    with open(hw2,\"w\") as data:\n",
    "        data.write(output)"
   ]
  },
  {
   "cell_type": "code",
   "execution_count": null,
   "metadata": {},
   "outputs": [],
   "source": []
  }
 ]
}