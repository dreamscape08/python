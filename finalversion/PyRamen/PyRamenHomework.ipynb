{
 "metadata": {
  "language_info": {
   "codemirror_mode": {
    "name": "ipython",
    "version": 3
   },
   "file_extension": ".py",
   "mimetype": "text/x-python",
   "name": "python",
   "nbconvert_exporter": "python",
   "pygments_lexer": "ipython3",
   "version": "3.8.5-final"
  },
  "orig_nbformat": 2,
  "kernelspec": {
   "name": "python3",
   "display_name": "Python 3.8.5 64-bit",
   "metadata": {
    "interpreter": {
     "hash": "082e9a3bcad0a290d0001e938aa60b99250c6c2ef33a923c00b70f9826caf4b7"
    }
   }
  }
 },
 "nbformat": 4,
 "nbformat_minor": 2,
 "cells": [
  {
   "cell_type": "code",
   "execution_count": 1,
   "metadata": {},
   "outputs": [],
   "source": [
    "#Import libraries\n",
    "import csv\n",
    "from pathlib import Path"
   ]
  },
  {
   "cell_type": "code",
   "execution_count": 2,
   "metadata": {},
   "outputs": [],
   "source": [
    "#Set file paths for menu_data.csv and sales_data.csv\n",
    "menu_path= Path('menu_data.csv')\n",
    "sales_path= Path('sales_data.csv')"
   ]
  },
  {
   "cell_type": "code",
   "execution_count": 3,
   "metadata": {},
   "outputs": [],
   "source": [
    "menu = []\n",
    "#item=[]\n",
    "#price=[]\n",
    "#cost=[]\n",
    "#Read in the menu data into the menu list\n",
    "with open(menu_path,'r') as menu_data:\n",
    "    csvreader = csv.reader(menu_data, delimiter=',')\n",
    "    csv_header = next(csvreader)\n",
    "    for data in csv.reader(menu_data):\n",
    "        menu.append(data)\n",
    "        #item.append(data[0])\n",
    "        #price.append(data[3])\n",
    "        #cost.append(data[4])"
   ]
  },
  {
   "cell_type": "code",
   "execution_count": 7,
   "metadata": {
    "tags": []
   },
   "outputs": [],
   "source": [
    "sales = []\n",
    "report = {}\n",
    "\n",
    "#Read in the sales data into the sales list\n",
    "with open(sales_path,'r') as sales_data:\n",
    "    csvreader = csv.reader(sales_data, delimiter=',')\n",
    "    csv_header = next(csvreader)\n",
    "    for row in csv.reader(sales_data):\n",
    "        sales.append(row)\n",
    "        #sales_item = row[4]\n",
    "        #quantity = int(row[3])           "
   ]
  },
  {
   "cell_type": "code",
   "execution_count": 5,
   "metadata": {},
   "outputs": [],
   "source": [
    "# Initialize a row counter variable\n",
    "row_count = 0\n",
    "count = 0\n",
    "revenue = 0.0\n",
    "cogs = 0.0\n",
    "net_profit = 0.0"
   ]
  },
  {
   "cell_type": "code",
   "execution_count": 6,
   "metadata": {
    "tags": []
   },
   "outputs": [],
   "source": [
    "#Logic and Looping time\n",
    "for sale in sales:\n",
    "    menu_item=sale[4]\n",
    "    count=int(sale[3])\n",
    "    row_count+=1\n",
    "    if menu_item not in report.keys():\n",
    "        report[menu_item] = {\n",
    "        \"count\":count,}\n",
    "    else: \n",
    "        report[menu_item][\"count\"] += count\n",
    "for line in menu:\n",
    "    item=line[0]   \n",
    "    price=(float(line[3]))\n",
    "    cost=(float(line[4]))\n",
    "    if item in report.keys(): \n",
    "        report[item][\"revenue\"]= report[item][\"count\"]*price\n",
    "        report[item][\"cogs\"]=report[item][\"count\"]*cost\n",
    "        report[item][\"net_profit\"]=report[item][\"count\"]*(price-cost)\n",
    "hw2=\"PyRamenOutput.txt\"\n",
    "output = (str(report).replace('}, ',',\\n '))\n",
    "with open(hw2,\"w\") as data:\n",
    "    data.write(output)"
   ]
  },
  {
   "cell_type": "code",
   "execution_count": null,
   "metadata": {},
   "outputs": [],
   "source": []
  },
  {
   "cell_type": "code",
   "execution_count": null,
   "metadata": {},
   "outputs": [],
   "source": []
  }
 ]
}